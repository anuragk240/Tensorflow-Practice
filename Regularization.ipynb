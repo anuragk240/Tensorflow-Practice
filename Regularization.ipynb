{
 "cells": [
  {
   "cell_type": "markdown",
   "metadata": {},
   "source": [
    "# Regularization\n",
    "Reducing the variance in our model. The more complex a model is, the more it will vary according to our training data. This results in poor performance when applied on test data ie Overfitting. Regularization reduces the variance of our model by incorporating penalties for magnitude of coefficients of variable ($\\beta_i$). \n",
    "\n",
    "Regularisation is also used for removing less important features as it reduces coeff of these features to zero or approximately zero. Hence it is also a feature selection technique.\n",
    "\n",
    "Techniques:\n",
    "1. Ridge Regression\n",
    "2. Lasso"
   ]
  },
  {
   "cell_type": "code",
   "execution_count": 1,
   "metadata": {},
   "outputs": [],
   "source": [
    "# import libraries\n",
    "import tensorflow as tf\n",
    "import matplotlib.pyplot as plt\n",
    "import numpy as np\n",
    "import pandas as pd"
   ]
  },
  {
   "cell_type": "markdown",
   "metadata": {},
   "source": [
    "#### Let RSS be\n",
    "RSS = $\\sum_{i=1}^{n} (y_i-\\beta_0-\\sum_{j=1}^{p}\\beta_jx_{ji})$ <br />\n",
    "where p = No. of Parameters or variables <br />\n",
    "$\\beta_j$ = Coefficients <br />\n",
    "\n",
    "## 1. Ridge Regression \n",
    "Instead of MSE or RSS, cost function is modified as: <br />\n",
    "Cost = $[RSS + \\lambda\\sum_{j=1}^{p}(\\beta_j)^2]$\n",
    "\n",
    "A penalty is applied for $(\\beta_j)^2$ in the cost function which tends to reduce the coefficients of variables.\n",
    "\n",
    "## 2. Lasso\n",
    "Instead of MSE or RSS, cost function is modified as: <br />\n",
    "Cost = $[RSS + \\lambda\\sum_{j=1}^{p}\\lvert\\beta_j\\rvert]$\n",
    "\n",
    "A penalty is applied for $(\\lvert\\beta_j\\rvert)$ in the cost function which tends to reduce the coefficients of variables."
   ]
  },
  {
   "cell_type": "code",
   "execution_count": 2,
   "metadata": {},
   "outputs": [],
   "source": [
    "# a method to split dataset into train and test with given ratio\n",
    "def split_test_train(x, y, ratio = 0.8):\n",
    "    rint = np.arange(x.shape[0], dtype='int')\n",
    "    np.random.shuffle(rint)\n",
    "    # number of data points in training set\n",
    "    num = int(x.shape[0] * ratio)\n",
    "    x_train = x[rint[0:num]]\n",
    "    y_train = y[rint[0:num]]\n",
    "    x_test = x[rint[num:x.shape[0]]]\n",
    "    y_test = y[rint[num:x.shape[0]]]\n",
    "    return x_train, y_train, x_test, y_test"
   ]
  },
  {
   "cell_type": "code",
   "execution_count": 3,
   "metadata": {},
   "outputs": [
    {
     "data": {
      "image/png": "[encoded data removed]",
      "text/plain": [
       "<Figure size 432x288 with 1 Axes>"
      ]
     },
     "metadata": {},
     "output_type": "display_data"
    }
   ],
   "source": [
    "# load a polynomial dataset from csv - easy way\n",
    "df = pd.read_csv('Datasets/ship_speed_fuel.csv')\n",
    "x = df.iloc[:, 0]\n",
    "y = df.iloc[:, 1]\n",
    "\n",
    "# plot data\n",
    "plt.scatter(x, y)\n",
    "plt.show()"
   ]
  },
  {
   "cell_type": "code",
   "execution_count": 4,
   "metadata": {},
   "outputs": [],
   "source": [
    "# build a polynomial model of given degree\n",
    "def build_polynomial_model(X, degree):\n",
    "    # initialize weights and bias with random values\n",
    "    w = tf.Variable([np.random.randn()] * (degree + 1), name = 'weights')\n",
    "    \n",
    "    terms = []\n",
    "    # add polynomial terms upto degree specified\n",
    "    for i in range(degree + 1):\n",
    "        term = tf.multiply(w[i], tf.pow(X, i))\n",
    "        terms.append(term)\n",
    "    \n",
    "    model = tf.add_n(terms)\n",
    "    \n",
    "    return model, w"
   ]
  },
  {
   "cell_type": "code",
   "execution_count": 5,
   "metadata": {
    "scrolled": true
   },
   "outputs": [],
   "source": [
    "def train_model(epochs, degree, learning_rate, split_ratio, is_ridge = True):\n",
    "    x_train , y_train, x_test, y_test = split_test_train(x, y, split_ratio)\n",
    "    \n",
    "    X = tf.placeholder(dtype = tf.float32)\n",
    "    Y = tf.placeholder(dtype = tf.float32)\n",
    "\n",
    "    y_model, w = build_polynomial_model(X, degree)\n",
    "\n",
    "    # Mean squared error\n",
    "    mse = tf.reduce_mean(tf.square(Y - y_model))\n",
    "\n",
    "    # cost function\n",
    "    lmda = tf.placeholder(dtype = tf.float32)\n",
    "    RSS = tf.reduce_sum(tf.square(Y - y_model))\n",
    "    if is_ridge:        \n",
    "        penalty = tf.multiply(lmda, tf.reduce_sum(tf.square(w)))\n",
    "    else:\n",
    "        penalty = tf.multiply(lmda, tf.reduce_sum(tf.abs(w)))\n",
    "    cost = tf.add(RSS, penalty)\n",
    "\n",
    "    # training operation\n",
    "    train_op = tf.train.GradientDescentOptimizer(learning_rate).minimize(cost)\n",
    "\n",
    "    # start a session, this time, an interactive session\n",
    "    sess = tf.InteractiveSession()\n",
    "    tf.global_variables_initializer().run()\n",
    "\n",
    "    etrain = []\n",
    "    etest = []\n",
    "\n",
    "    for l in np.linspace(0, 1, 100):\n",
    "        # passing whole data to optimiser\n",
    "        for i in range(epochs):\n",
    "            sess.run(train_op, feed_dict = {X: x_train, Y: y_train, lmda: l})\n",
    "\n",
    "        print('weight={}, MSE={}'.format(sess.run(w), sess.run(mse, feed_dict = {X: x_train, Y: y_train})))\n",
    "        train_error = sess.run(mse, feed_dict={X: x_train, Y: y_train})\n",
    "        test_error = sess.run(mse, feed_dict={X: x_test, Y: y_test})\n",
    "\n",
    "        etrain.append(train_error)\n",
    "        etest.append(test_error)\n",
    "\n",
    "    sess.close()\n",
    "    \n",
    "    return etrain, etest"
   ]
  },
  {
   "cell_type": "code",
   "execution_count": 23,
   "metadata": {
    "scrolled": true
   },
   "outputs": [
    {
     "name": "stdout",
     "output_type": "stream",
     "text": [
      "weight=[1.4830753 4.33759   3.6278057 3.9922705 3.0148573], MSE=4.336316108703613\n",
      "weight=[0.99603814 3.7675111  4.413312   5.098087   3.9799695 ], MSE=3.6275899410247803\n",
      "weight=[0.86194915 3.2199495  4.5831547  6.0151887  4.3641906 ], MSE=3.352485418319702\n",
      "weight=[0.83323723 2.751996   4.5688815  6.7964687  4.5603604 ], MSE=3.172889471054077\n",
      "weight=[0.8357261 2.355495  4.5035067 7.4577575 4.690815 ], MSE=3.0430748462677\n",
      "weight=[0.8467517 2.021811  4.42753   8.013639  4.793826 ], MSE=2.9480578899383545\n",
      "weight=[0.85946476 1.7430282  4.353012   8.477406   4.881723  ], MSE=2.878464460372925\n",
      "weight=[0.87185484 1.5120368  4.283331   8.860974   4.958824  ], MSE=2.8275225162506104\n",
      "weight=[0.88338846 1.322507   4.2192245  9.174958   5.0269294 ], MSE=2.7902660369873047\n",
      "weight=[0.8939732 1.1688194 4.1606503 9.428778  5.0870333], MSE=2.763058662414551\n",
      "weight=[0.90364575 1.0460172  4.1073465  9.630734   5.139843  ], MSE=2.7432568073272705\n",
      "weight=[0.9124748 0.9497315 4.059005  9.788153  5.1859365], MSE=2.728940963745117\n",
      "weight=[0.9205328 0.8761296 4.0153193 9.9074545 5.2258306], MSE=2.718729019165039\n",
      "weight=[0.927889   0.82185656 3.9759977  9.994272   5.2599864 ], MSE=2.71162486076355\n",
      "weight=[ 0.93460506  0.78398395  3.9407704  10.053504    5.288827  ], MSE=2.706913471221924\n",
      "weight=[ 0.9407389  0.7599656  3.9093747 10.089429   5.312746 ], MSE=2.7040793895721436\n",
      "weight=[ 0.9463423  0.7475913  3.8815682 10.105748   5.3321056], MSE=2.7027502059936523\n",
      "weight=[ 0.9514613  0.7449522  3.8571172 10.105666   5.347249 ], MSE=2.7026541233062744\n",
      "weight=[ 0.9561396  0.750403   3.8358    10.091943   5.3584895], MSE=2.7035906314849854\n",
      "weight=[ 0.96041656  0.76253086  3.8174038  10.06695     5.3661246 ], MSE=2.7054073810577393\n",
      "weight=[ 0.96432763  0.7801286   3.8017268  10.032713    5.3704333 ], MSE=2.707986354827881\n",
      "weight=[0.9679058 0.8021618 3.7885735 9.990973  5.3716807], MSE=2.7112340927124023\n",
      "weight=[0.97118217 0.8277533  3.7777557  9.943202   5.370114  ], MSE=2.7150726318359375\n",
      "weight=[0.9741839  0.85616356 3.7690928  9.890647   5.365973  ], MSE=2.71943736076355\n",
      "weight=[0.9769369  0.88676566 3.7624116  9.834355   5.3594847 ], MSE=2.724271774291992\n",
      "weight=[0.9794658  0.91903317 3.7575471  9.775221   5.350855  ], MSE=2.7295262813568115\n",
      "weight=[0.9817924 0.9525253 3.7543368 9.7139845 5.3402915], MSE=2.7351555824279785\n",
      "weight=[0.9839379 0.9868769 3.7526293 9.651263  5.3279843], MSE=2.741119384765625\n",
      "weight=[0.98592186 1.0217859  3.7522771  9.587567   5.314114  ], MSE=2.7473816871643066\n",
      "weight=[0.9877616 1.0570059 3.7531416 9.5233135 5.2988534], MSE=2.753908634185791\n",
      "weight=[0.98947394 1.0923302  3.755091   9.458851   5.282362  ], MSE=2.760669469833374\n",
      "weight=[0.99107486 1.1275948  3.7579985  9.394462   5.2647943 ], MSE=2.767637014389038\n",
      "weight=[0.99257743 1.1626679  3.7617466  9.330368   5.2462945 ], MSE=2.7747855186462402\n",
      "weight=[0.99399674 1.1974461  3.766223   9.266747   5.226992  ], MSE=2.7820932865142822\n",
      "weight=[0.99534404 1.2318467  3.7713225  9.203744   5.2070165 ], MSE=2.789538621902466\n",
      "weight=[0.9966309 1.2658021 3.7769492 9.141471  5.186481 ], MSE=2.7971031665802\n",
      "weight=[0.9978674 1.2992706 3.7830133 9.080002  5.165491 ], MSE=2.8047711849212646\n",
      "weight=[0.99906313 1.3322133  3.7894285  9.019405   5.1441493 ], MSE=2.8125271797180176\n",
      "weight=[1.0002265 1.3646075 3.7961214 8.959723  5.1225443], MSE=2.820357322692871\n",
      "weight=[1.001366  1.3964347 3.8030174 8.900989  5.10076  ], MSE=2.8282501697540283\n",
      "weight=[1.0024881 1.4276861 3.8100562 8.843217  5.07887  ], MSE=2.8361947536468506\n",
      "weight=[1.0035995 1.4583579 3.8171785 8.786417  5.056941 ], MSE=2.844181776046753\n",
      "weight=[1.0047052 1.4884526 3.824331  8.730588  5.035039 ], MSE=2.8522021770477295\n",
      "weight=[1.005811  1.5179726 3.8314683 8.675725  5.0132127], MSE=2.8602495193481445\n",
      "weight=[1.0069212 1.5469245 3.838548  8.621821  4.9915123], MSE=2.868316650390625\n",
      "weight=[1.0080395 1.575317  3.8455343 8.568863  4.9699802], MSE=2.876397132873535\n",
      "weight=[1.0091692 1.6031609 3.8523962 8.51683   4.948652 ], MSE=2.884486198425293\n",
      "weight=[1.0103133 1.6304666 3.8591065 8.465709  4.9275575], MSE=2.8925795555114746\n",
      "weight=[1.0114741 1.6572471 3.865642  8.415478  4.906723 ], MSE=2.9006731510162354\n",
      "weight=[1.0126537 1.6835121 3.871982  8.366122  4.8861747], MSE=2.908761978149414\n",
      "weight=[1.0138533 1.7092763 3.8781128 8.317616  4.8659267], MSE=2.916843891143799\n",
      "weight=[1.0150746 1.7345513 3.88402   8.269942  4.845995 ], MSE=2.9249160289764404\n",
      "weight=[1.0163187 1.7593505 3.889694  8.223078  4.8263893], MSE=2.9329755306243896\n",
      "weight=[1.017586  1.7836863 3.895127  8.177003  4.80712  ], MSE=2.9410207271575928\n",
      "weight=[1.0188767 1.8075707 3.9003146 8.131695  4.7881913], MSE=2.949049472808838\n",
      "weight=[1.0201919 1.8310155 3.9052527 8.087139  4.7696047], MSE=2.957059383392334\n",
      "weight=[1.0215307 1.8540317 3.9099426 8.043314  4.7513604], MSE=2.9650495052337646\n",
      "weight=[1.0228931 1.8766295 3.9143827 8.000202  4.733462 ], MSE=2.973018169403076\n",
      "weight=[1.0242795 1.8988222 3.9185743 7.9577813 4.7159033], MSE=2.980964422225952\n",
      "weight=[1.0256888 1.9206192 3.9225206 7.916037  4.6986823], MSE=2.988887310028076\n",
      "weight=[1.027121  1.9420307 3.9262257 7.874952  4.6817923], MSE=2.996785879135132\n",
      "weight=[1.0285754 1.9630657 3.9296947 7.834508  4.665228 ], MSE=3.004659414291382\n",
      "weight=[1.0300511 1.983734  3.9329314 7.794694  4.648983 ], MSE=3.0125067234039307\n",
      "weight=[1.0315474 2.004046  3.9359436 7.755487  4.633051 ], MSE=3.0203278064727783\n",
      "weight=[1.033064  2.0240095 3.9387362 7.716877  4.617421 ], MSE=3.028122663497925\n",
      "weight=[1.0345999 2.0436325 3.9413166 7.678848  4.602088 ], MSE=3.0358893871307373\n",
      "weight=[1.0361542 2.0629234 3.9436915 7.64139   4.587042 ], MSE=3.043628215789795\n",
      "weight=[1.0377263 2.0818892 3.9458668 7.604484  4.5722747], MSE=3.051339626312256\n",
      "weight=[1.0393153 2.100539  3.94785   7.568122  4.5577774], MSE=3.0590221881866455\n",
      "weight=[1.0409203 2.118879  3.9496498 7.532288  4.5435414], MSE=3.066676139831543\n",
      "weight=[1.0425404 2.1369166 3.9512708 7.4969716 4.529558 ], MSE=3.0743014812469482\n",
      "weight=[1.0441753 2.1546593 3.9527197 7.462159  4.5158224], MSE=3.0818986892700195\n",
      "weight=[1.0458235 2.1721144 3.954006  7.4278393 4.5023236], MSE=3.0894670486450195\n",
      "weight=[1.0474845 2.1892877 3.9551346 7.394001  4.4890494], MSE=3.0970067977905273\n",
      "weight=[1.0491583 2.2061846 3.9561112 7.360636  4.475998 ], MSE=3.1045172214508057\n",
      "weight=[1.050843  2.2228117 3.9569435 7.3277335 4.4631596], MSE=3.1119987964630127\n",
      "weight=[1.052539  2.2391753 3.9576352 7.2952805 4.450526 ], MSE=3.1194519996643066\n",
      "weight=[1.0542451 2.2552803 3.9581952 7.26327   4.4380884], MSE=3.1268765926361084\n",
      "weight=[1.0559608 2.2711327 3.9586287 7.231691  4.425843 ], MSE=3.134272575378418\n",
      "weight=[1.0576848 2.2867377 3.95894   7.200536  4.4137845], MSE=3.1416397094726562\n",
      "weight=[1.0594178 2.3021011 3.9591327 7.1697936 4.401901 ], MSE=3.1489789485931396\n",
      "weight=[1.0611583 2.3172264 3.959213  7.139459  4.390192 ], MSE=3.1562891006469727\n",
      "weight=[1.062906  2.3321204 3.9591882 7.1095204 4.3786483], MSE=3.163571834564209\n",
      "weight=[1.0646607 2.346787  3.9590583 7.079971  4.367268 ], MSE=3.1708264350891113\n",
      "weight=[1.0664213 2.36123   3.9588299 7.0508037 4.3560414], MSE=3.1780529022216797\n",
      "weight=[1.068188  2.3754547 3.9585075 7.02201   4.344966 ], MSE=3.185251474380493\n",
      "weight=[1.0699599 2.389466  3.9580936 6.993581  4.3340364], MSE=3.192422866821289\n",
      "weight=[1.0717374 2.4032686 3.957591  6.965509  4.3232465], MSE=3.1995677947998047\n",
      "weight=[1.0735189 2.4168646 3.9570081 6.9377913 4.312594 ], MSE=3.206683874130249\n",
      "weight=[1.0753043 2.4302595 3.9563448 6.9104176 4.3020744], MSE=3.213773727416992\n",
      "weight=[1.0770941 2.4434566 3.9556036 6.8833823 4.291681 ], MSE=3.220837354660034\n",
      "weight=[1.0788867 2.4564607 3.9547875 6.8566766 4.281417 ], MSE=3.2278738021850586\n",
      "weight=[1.0806831 2.4692748 3.9539006 6.830298  4.271271 ], MSE=3.234884023666382\n",
      "weight=[1.0824822 2.4819033 3.952948  6.8042355 4.2612405], MSE=3.241868257522583\n",
      "weight=[1.0842834 2.4943492 3.9519296 6.778486  4.251325 ], MSE=3.248826503753662\n",
      "weight=[1.0860869 2.5066164 3.9508476 6.753043  4.241521 ], MSE=3.2557594776153564\n",
      "weight=[1.0878924 2.5187078 3.9497046 6.7279005 4.2318263], MSE=3.262666702270508\n",
      "weight=[1.0896997 2.5306265 3.9485023 6.703054  4.2222357], MSE=3.2695488929748535\n"
     ]
    },
    {
     "name": "stdout",
     "output_type": "stream",
     "text": [
      "weight=[1.0915089 2.5423765 3.9472446 6.678497  4.2127466], MSE=3.2764053344726562\n",
      "weight=[1.0933189 2.5539603 3.9459317 6.654224  4.2033577], MSE=3.283237934112549\n"
     ]
    }
   ],
   "source": [
    "# train model\n",
    "epochs = 100\n",
    "degree = 4\n",
    "learning_rate = 0.001\n",
    "split_ratio = 0.5\n",
    "# set is_ridge to False for lasso\n",
    "is_ridge = True\n",
    "\n",
    "etrain, etest = train_model(epochs, degree, learning_rate, split_ratio, is_ridge)"
   ]
  },
  {
   "cell_type": "code",
   "execution_count": 24,
   "metadata": {},
   "outputs": [
    {
     "data": {
      "image/png": "[encoded data removed]",
      "text/plain": [
       "<Figure size 432x288 with 1 Axes>"
      ]
     },
     "metadata": {},
     "output_type": "display_data"
    }
   ],
   "source": [
    "# plot the results\n",
    "lmbda = np.linspace(0, 1, 100)\n",
    "plt.plot(lmbda, etrain, 'g', label = 'Train Error')\n",
    "plt.plot(lmbda, etest, 'r', label = 'Test Error')\n",
    "plt.legend()\n",
    "plt.xlabel('Lambda')\n",
    "plt.ylabel('Error')\n",
    "plt.show()"
   ]
  },
  {
   "cell_type": "code",
   "execution_count": 95,
   "metadata": {},
   "outputs": [
    {
     "name": "stdout",
     "output_type": "stream",
     "text": [
      "12.8\n"
     ]
    }
   ],
   "source": []
  }
 ],
 "metadata": {
  "kernelspec": {
   "display_name": "Python 3",
   "language": "python",
   "name": "python3"
  },
  "language_info": {
   "codemirror_mode": {
    "name": "ipython",
    "version": 3
   },
   "file_extension": ".py",
   "mimetype": "text/x-python",
   "name": "python",
   "nbconvert_exporter": "python",
   "pygments_lexer": "ipython3",
   "version": "3.6.5"
  }
 },
 "nbformat": 4,
 "nbformat_minor": 2
}
