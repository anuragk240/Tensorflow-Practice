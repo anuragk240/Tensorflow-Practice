{
 "cells": [
  {
   "cell_type": "markdown",
   "metadata": {},
   "source": [
    "# Classification\n",
    "1. Logistic Regression"
   ]
  },
  {
   "cell_type": "code",
   "execution_count": 15,
   "metadata": {},
   "outputs": [],
   "source": [
    "import tensorflow as tf\n",
    "import numpy as np\n",
    "import matplotlib.pyplot as plt"
   ]
  },
  {
   "cell_type": "markdown",
   "metadata": {},
   "source": [
    "## 1. Simple Logistic Regression\n",
    "\n",
    "Model for Simple logistic regression: $p = \\frac{\\mathrm{e}^y}{1+\\mathrm{e}^y}$\n",
    "\n",
    "where\n",
    "\n",
    "$y = \\beta_0 + \\beta x$\n"
   ]
  },
  {
   "cell_type": "code",
   "execution_count": 51,
   "metadata": {},
   "outputs": [
    {
     "data": {
      "image/png": "[encoded data removed]",
      "text/plain": [
       "<Figure size 432x288 with 1 Axes>"
      ]
     },
     "metadata": {},
     "output_type": "display_data"
    }
   ],
   "source": [
    "# simulate binary data\n",
    "x0 = np.random.normal(5, 2.5, 1000)\n",
    "x1 = np.random.normal(15, 2.5, 1000)\n",
    "\n",
    "x = np.append(x0, x1)\n",
    "y = np.asarray([0.0] * len(x0) + [1.0] * len(x1))\n",
    "\n",
    "plt.scatter(x, y)\n",
    "plt.show()"
   ]
  },
  {
   "cell_type": "markdown",
   "metadata": {},
   "source": [
    "After several tries the cost function that did well was:\n",
    "\n",
    "$-\\sum_{i=1}^{n} [y_i\\log(p(x_i)) + (1-y_i) \\log(1-p(x_i))]$\n",
    "\n",
    "* log terms are necessary else optimiser does not update significantly or gets stuck in some local minima.\n",
    "* Tried to use reduce_prod() instead of reduce_mean(). Optimiser could not calculate cost and update weights. Cost were set to 0 for all epochs."
   ]
  },
  {
   "cell_type": "code",
   "execution_count": 103,
   "metadata": {},
   "outputs": [
    {
     "name": "stdout",
     "output_type": "stream",
     "text": [
      "i=499: w=[-2.9689379  0.3492842], accuracy=0.9599999785423279, cost=0.22923403978347778\n"
     ]
    }
   ],
   "source": [
    "X = tf.placeholder(dtype=tf.float32)\n",
    "Y = tf.placeholder(dtype=tf.float32)\n",
    "\n",
    "# weights (b0 and b1)\n",
    "w = tf.Variable([np.random.randn(), np.random.randn()], dtype=tf.float32)\n",
    "\n",
    "y_linear = tf.add(w[0], tf.multiply(w[1], X))\n",
    "model = tf.sigmoid(y_linear)\n",
    "\n",
    "# if prob > 0.5 set y=1 else set y=0\n",
    "activation = tf.to_float(tf.greater(model, 0.5))\n",
    "\n",
    "# has to include log terms\n",
    "cost = tf.negative(tf.reduce_mean(tf.add(Y * tf.log(model), (1-Y)*tf.log(1-model))))\n",
    "\n",
    "accuracy = tf.reduce_mean(tf.to_float(tf.equal(Y, activation)))\n",
    "\n",
    "epochs=500\n",
    "\n",
    "train_op = tf.train.GradientDescentOptimizer(0.05).minimize(cost)\n",
    "\n",
    "with tf.Session() as sess:\n",
    "    sess.run(tf.global_variables_initializer())\n",
    "    for i in range(epochs):\n",
    "        sess.run(train_op, feed_dict={X: x, Y: y})\n",
    "    \n",
    "    weights = sess.run(w)\n",
    "    c = sess.run(cost, feed_dict={X: x, Y: y})\n",
    "    acc = sess.run(accuracy, feed_dict={X: x, Y: y})\n",
    "    print('i={}: w={}, accuracy={}, cost={}'.format(i, weights, acc, c))\n",
    "    \n",
    "    all_x = np.linspace(min(x), max(x), len(x))\n",
    "    y_fitted = sess.run(model, feed_dict={X: all_x})"
   ]
  },
  {
   "cell_type": "code",
   "execution_count": 104,
   "metadata": {},
   "outputs": [
    {
     "data": {
      "image/png": "[encoded data removed]",
      "text/plain": [
       "<Figure size 432x288 with 1 Axes>"
      ]
     },
     "metadata": {},
     "output_type": "display_data"
    }
   ],
   "source": [
    "# plot fitted model\n",
    "plt.scatter(x, y)\n",
    "plt.plot(all_x, y_fitted, 'r')\n",
    "plt.show()"
   ]
  }
 ],
 "metadata": {
  "kernelspec": {
   "display_name": "Python 3",
   "language": "python",
   "name": "python3"
  },
  "language_info": {
   "codemirror_mode": {
    "name": "ipython",
    "version": 3
   },
   "file_extension": ".py",
   "mimetype": "text/x-python",
   "name": "python",
   "nbconvert_exporter": "python",
   "pygments_lexer": "ipython3",
   "version": "3.6.5"
  }
 },
 "nbformat": 4,
 "nbformat_minor": 2
}
