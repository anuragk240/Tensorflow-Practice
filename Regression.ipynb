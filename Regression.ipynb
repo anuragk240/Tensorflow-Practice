{
 "cells": [
  {
   "cell_type": "markdown",
   "metadata": {},
   "source": [
    "# Simple Linear Regression\n",
    "\n",
    "Linear Regression using MSE as cost function optimised by GradientDescentOptimiser."
   ]
  },
  {
   "cell_type": "code",
   "execution_count": 1,
   "metadata": {},
   "outputs": [],
   "source": [
    "import tensorflow as tf\n",
    "import numpy as np\n",
    "import matplotlib.pyplot as plt"
   ]
  },
  {
   "cell_type": "code",
   "execution_count": 2,
   "metadata": {},
   "outputs": [
    {
     "data": {
      "image/png": "[encoded data removed]",
      "text/plain": [
       "<Figure size 432x288 with 1 Axes>"
      ]
     },
     "metadata": {},
     "output_type": "display_data"
    }
   ],
   "source": [
    "# simulate linear data\n",
    "x_train = np.linspace(-1, 1, 100)\n",
    "# y = 4.5 x + 10\n",
    "y_train = 4.5 * x_train + np.random.randn(x_train.shape[0]) + np.random.randn() * 10\n",
    "\n",
    "n_samples = x_train.shape[0]\n",
    "\n",
    "plt.scatter(x_train, y_train)\n",
    "plt.show()"
   ]
  },
  {
   "cell_type": "code",
   "execution_count": 32,
   "metadata": {},
   "outputs": [
    {
     "name": "stdout",
     "output_type": "stream",
     "text": [
      "[1 2 3]\n",
      "14\n",
      "[14 16 18]\n"
     ]
    }
   ],
   "source": [
    "# figuring out something\n",
    "a = tf.placeholder(dtype=tf.int32)\n",
    "b = tf.Variable(12)\n",
    "w = tf.Variable([1, 2, 3])\n",
    "\n",
    "mult = tf.add(tf.multiply(a, w[1]), b)\n",
    "\n",
    "with tf.Session() as sess:\n",
    "    sess.run(tf.global_variables_initializer())\n",
    "    print(sess.run(w))\n",
    "    print(sess.run(mult, feed_dict={a: 1}))\n",
    "    print(sess.run(mult, feed_dict={a: [1,2,3]}))\n",
    "    "
   ]
  },
  {
   "cell_type": "code",
   "execution_count": 21,
   "metadata": {
    "scrolled": true
   },
   "outputs": [
    {
     "name": "stdout",
     "output_type": "stream",
     "text": [
      "epoch 0: weight=0.7974063158035278, bias=1.2097326517105103, MSE=15.102492332458496\n",
      "epoch 1: weight=0.9185311198234558, bias=1.5005193948745728, MSE=13.13647747039795\n",
      "epoch 2: weight=1.0359716415405273, bias=1.7634559869766235, MSE=11.49405288696289\n",
      "epoch 3: weight=1.1498156785964966, bias=2.0012013912200928, MSE=10.118416786193848\n",
      "epoch 4: weight=1.260151743888855, bias=2.216158628463745, MSE=8.962997436523438\n",
      "epoch 5: weight=1.367068886756897, bias=2.4105019569396973, MSE=7.989574432373047\n",
      "epoch 6: weight=1.4706544876098633, bias=2.5861992835998535, MSE=7.166772365570068\n",
      "epoch 7: weight=1.570997714996338, bias=2.7450320720672607, MSE=6.468813419342041\n",
      "epoch 8: weight=1.6681855916976929, bias=2.8886098861694336, MSE=5.874522686004639\n",
      "epoch 9: weight=1.7623040676116943, bias=3.0183889865875244, MSE=5.366486072540283\n",
      "epoch 10: weight=1.8534389734268188, bias=3.1356890201568604, MSE=4.930366039276123\n",
      "epoch 11: weight=1.9416742324829102, bias=3.24170184135437, MSE=4.554357051849365\n",
      "epoch 12: weight=2.0270912647247314, bias=3.3375070095062256, MSE=4.228724479675293\n",
      "epoch 13: weight=2.1097724437713623, bias=3.424078941345215, MSE=3.9454336166381836\n",
      "epoch 14: weight=2.1897988319396973, bias=3.502300500869751, MSE=3.6978392601013184\n",
      "epoch 15: weight=2.2672481536865234, bias=3.572970151901245, MSE=3.480445146560669\n",
      "epoch 16: weight=2.3421971797943115, bias=3.636812686920166, MSE=3.288689613342285\n",
      "epoch 17: weight=2.414719581604004, bias=3.6944799423217773, MSE=3.118790626525879\n",
      "epoch 18: weight=2.4848899841308594, bias=3.7465641498565674, MSE=2.9675943851470947\n",
      "epoch 19: weight=2.552779197692871, bias=3.7935996055603027, MSE=2.832474946975708\n",
      "epoch 20: weight=2.618457317352295, bias=3.836068630218506, MSE=2.7112338542938232\n",
      "epoch 21: weight=2.6819939613342285, bias=3.8744091987609863, MSE=2.6020264625549316\n",
      "epoch 22: weight=2.7434539794921875, bias=3.9090185165405273, MSE=2.5033035278320312\n",
      "epoch 23: weight=2.8029043674468994, bias=3.940253973007202, MSE=2.413754463195801\n",
      "epoch 24: weight=2.8604042530059814, bias=3.9684407711029053, MSE=2.3322763442993164\n",
      "epoch 25: weight=2.9160172939300537, bias=3.9938695430755615, MSE=2.2579264640808105\n",
      "epoch 26: weight=2.9698026180267334, bias=4.0168070793151855, MSE=2.1899006366729736\n",
      "epoch 27: weight=3.0218188762664795, bias=4.037492275238037, MSE=2.127511501312256\n",
      "epoch 28: weight=3.0721218585968018, bias=4.056141376495361, MSE=2.070167303085327\n",
      "epoch 29: weight=3.1207668781280518, bias=4.072950839996338, MSE=2.01735520362854\n",
      "epoch 30: weight=3.16780686378479, bias=4.088099479675293, MSE=1.9686311483383179\n",
      "epoch 31: weight=3.213292360305786, bias=4.101746559143066, MSE=1.9236085414886475\n",
      "epoch 32: weight=3.2572743892669678, bias=4.1140336990356445, MSE=1.8819469213485718\n",
      "epoch 33: weight=3.2998006343841553, bias=4.125095844268799, MSE=1.843347430229187\n",
      "epoch 34: weight=3.340918779373169, bias=4.135052680969238, MSE=1.807544231414795\n",
      "epoch 35: weight=3.380676031112671, bias=4.144008159637451, MSE=1.7743018865585327\n",
      "epoch 36: weight=3.419114828109741, bias=4.152059078216553, MSE=1.7434113025665283\n",
      "epoch 37: weight=3.456277370452881, bias=4.159298896789551, MSE=1.714684009552002\n",
      "epoch 38: weight=3.492206573486328, bias=4.165799140930176, MSE=1.687950611114502\n",
      "epoch 39: weight=3.5269417762756348, bias=4.171635627746582, MSE=1.6630586385726929\n",
      "epoch 40: weight=3.5605247020721436, bias=4.176874160766602, MSE=1.6398669481277466\n",
      "epoch 41: weight=3.5929911136627197, bias=4.181572437286377, MSE=1.6182514429092407\n",
      "epoch 42: weight=3.624377727508545, bias=4.1857805252075195, MSE=1.5980970859527588\n",
      "epoch 43: weight=3.6547207832336426, bias=4.189549922943115, MSE=1.5792979001998901\n",
      "epoch 44: weight=3.684053897857666, bias=4.192921161651611, MSE=1.5617579221725464\n",
      "epoch 45: weight=3.7124123573303223, bias=4.195934772491455, MSE=1.545387625694275\n",
      "epoch 46: weight=3.739825487136841, bias=4.198625087738037, MSE=1.5301071405410767\n",
      "epoch 47: weight=3.766324758529663, bias=4.201024055480957, MSE=1.5158406496047974\n",
      "epoch 48: weight=3.791940689086914, bias=4.20316219329834, MSE=1.502518653869629\n",
      "epoch 49: weight=3.8167030811309814, bias=4.205065727233887, MSE=1.4900763034820557\n",
      "epoch 50: weight=3.84063982963562, bias=4.206754207611084, MSE=1.4784539937973022\n",
      "epoch 51: weight=3.863778829574585, bias=4.208253860473633, MSE=1.4675968885421753\n",
      "epoch 52: weight=3.8861467838287354, bias=4.2095794677734375, MSE=1.4574525356292725\n",
      "epoch 53: weight=3.9077675342559814, bias=4.210751056671143, MSE=1.4479748010635376\n",
      "epoch 54: weight=3.9286675453186035, bias=4.2117838859558105, MSE=1.4391180276870728\n",
      "epoch 55: weight=3.9488682746887207, bias=4.212691783905029, MSE=1.430842638015747\n",
      "epoch 56: weight=3.968395709991455, bias=4.213488578796387, MSE=1.4231083393096924\n",
      "epoch 57: weight=3.9872710704803467, bias=4.2141876220703125, MSE=1.4158798456192017\n",
      "epoch 58: weight=4.005516529083252, bias=4.214794635772705, MSE=1.4091236591339111\n",
      "epoch 59: weight=4.023152828216553, bias=4.215320110321045, MSE=1.4028090238571167\n",
      "epoch 60: weight=4.040201663970947, bias=4.215774059295654, MSE=1.396905779838562\n",
      "epoch 61: weight=4.056679725646973, bias=4.216161251068115, MSE=1.3913885354995728\n",
      "epoch 62: weight=4.072609901428223, bias=4.21649169921875, MSE=1.3862301111221313\n",
      "epoch 63: weight=4.088003635406494, bias=4.216771125793457, MSE=1.3814096450805664\n",
      "epoch 64: weight=4.102884292602539, bias=4.217006206512451, MSE=1.3769028186798096\n",
      "epoch 65: weight=4.1172685623168945, bias=4.217200756072998, MSE=1.3726893663406372\n",
      "epoch 66: weight=4.131173133850098, bias=4.217357158660889, MSE=1.368749976158142\n",
      "epoch 67: weight=4.144612789154053, bias=4.217483043670654, MSE=1.3650672435760498\n",
      "epoch 68: weight=4.157603740692139, bias=4.2175774574279785, MSE=1.361624002456665\n",
      "epoch 69: weight=4.170159339904785, bias=4.217647552490234, MSE=1.3584051132202148\n",
      "epoch 70: weight=4.182294845581055, bias=4.2176947593688965, MSE=1.3553956747055054\n",
      "epoch 71: weight=4.194027423858643, bias=4.2177228927612305, MSE=1.35258150100708\n",
      "epoch 72: weight=4.205365180969238, bias=4.217731952667236, MSE=1.3499504327774048\n",
      "epoch 73: weight=4.2163238525390625, bias=4.217729568481445, MSE=1.3474905490875244\n",
      "epoch 74: weight=4.226913928985596, bias=4.217711925506592, MSE=1.3451907634735107\n",
      "epoch 75: weight=4.237152576446533, bias=4.217680931091309, MSE=1.3430399894714355\n",
      "epoch 76: weight=4.247047424316406, bias=4.217642307281494, MSE=1.3410286903381348\n",
      "epoch 77: weight=4.256611347198486, bias=4.217594623565674, MSE=1.3391485214233398\n",
      "epoch 78: weight=4.265856742858887, bias=4.217535972595215, MSE=1.3373894691467285\n",
      "epoch 79: weight=4.274792194366455, bias=4.217474937438965, MSE=1.3357447385787964\n",
      "epoch 80: weight=4.283426761627197, bias=4.217408657073975, MSE=1.3342070579528809\n",
      "epoch 81: weight=4.291774272918701, bias=4.217337131500244, MSE=1.332768440246582\n",
      "epoch 82: weight=4.2998433113098145, bias=4.217262268066406, MSE=1.331423044204712\n",
      "epoch 83: weight=4.307641506195068, bias=4.2171831130981445, MSE=1.3301646709442139\n",
      "epoch 84: weight=4.315179347991943, bias=4.217103004455566, MSE=1.328987717628479\n",
      "epoch 85: weight=4.322465896606445, bias=4.2170209884643555, MSE=1.3278868198394775\n",
      "epoch 86: weight=4.329507827758789, bias=4.216938495635986, MSE=1.3268569707870483\n",
      "epoch 87: weight=4.3363118171691895, bias=4.216855049133301, MSE=1.3258941173553467\n",
      "epoch 88: weight=4.342891693115234, bias=4.216772079467773, MSE=1.3249927759170532\n",
      "epoch 89: weight=4.349248886108398, bias=4.216684818267822, MSE=1.3241500854492188\n",
      "epoch 90: weight=4.355395317077637, bias=4.2166008949279785, MSE=1.3233613967895508\n",
      "epoch 91: weight=4.361335754394531, bias=4.216516017913818, MSE=1.322623610496521\n",
      "epoch 92: weight=4.367077827453613, bias=4.216432094573975, MSE=1.3219331502914429\n",
      "epoch 93: weight=4.372626781463623, bias=4.216349124908447, MSE=1.3212873935699463\n",
      "epoch 94: weight=4.377991199493408, bias=4.216264724731445, MSE=1.3206828832626343\n",
      "epoch 95: weight=4.383176326751709, bias=4.216182231903076, MSE=1.3201169967651367\n",
      "epoch 96: weight=4.388187885284424, bias=4.21610164642334, MSE=1.3195878267288208\n",
      "epoch 97: weight=4.393031120300293, bias=4.216022491455078, MSE=1.3190923929214478\n",
      "epoch 98: weight=4.397712707519531, bias=4.215945720672607, MSE=1.3186286687850952\n",
      "epoch 99: weight=4.402238845825195, bias=4.21586799621582, MSE=1.3181946277618408\n",
      "Trained Model:\n",
      "weight=4.402238845825195, bias=4.21586799621582, MSE=1.3181946277618408\n"
     ]
    }
   ],
   "source": [
    "# place holder for data\n",
    "X = tf.placeholder(dtype=tf.float32)\n",
    "Y = tf.placeholder(dtype=tf.float32)\n",
    "\n",
    "# create variables for weights and bias\n",
    "w = tf.Variable(np.random.randn(), name='weight')\n",
    "b = tf.Variable(np.random.randn(), name='bias')\n",
    "\n",
    "# create a linear model y = wx + b\n",
    "y_model = tf.add(tf.multiply(X, w), b)\n",
    "\n",
    "# MSE fn to calculate the error of fitted model\n",
    "mse = tf.reduce_mean(tf.square(Y - y_model))\n",
    "\n",
    "# create a cost function(s) to be optimised during training\n",
    "# MSE reduced most by 2nd one\n",
    "\n",
    "# cost = tf.reduce_mean(tf.square(Y - y_model))\n",
    "cost = tf.reduce_sum(tf.square(Y - y_model))/(2 * n_samples)\n",
    "# cost = tf.reduce_sum(tf.square(Y - y_model))\n",
    "\n",
    "# create an optimiser to optimise cost fn\n",
    "train_op = tf.train.GradientDescentOptimizer(learning_rate = 0.1).minimize(cost)\n",
    "\n",
    "# train the linear model\n",
    "with tf.Session() as sess:\n",
    "    sess.run(tf.global_variables_initializer())\n",
    "    # 100 epochs\n",
    "    for i in range(100):\n",
    "        for (x, y) in zip(x_train, y_train):\n",
    "            sess.run(train_op, feed_dict = {X: x, Y: y})\n",
    "        \n",
    "        print('epoch {}: weight={}, bias={}, MSE={}'.format(i, sess.run(w), sess.run(b), sess.run(mse,\\\n",
    "                                                                feed_dict={X: x_train, Y: y_train})))\n",
    "    \n",
    "    print('Trained Model:')\n",
    "    weight = sess.run(w)\n",
    "    bias = sess.run(b)\n",
    "    print('weight={}, bias={}, MSE={}'.format(weight, bias, sess.run(mse,\\\n",
    "                                                                feed_dict={X: x_train, Y: y_train})))\n",
    "    \n",
    "    # running the trained model to get predicted y values\n",
    "    y_fitted = sess.run(y_model, feed_dict={X: x_train})"
   ]
  },
  {
   "cell_type": "markdown",
   "metadata": {},
   "source": [
    "### Observations\n",
    "Cost functions used:\n",
    "1. cost = tf.reduce_mean(tf.square(Y - y_model))\n",
    "2. cost = tf.reduce_sum(tf.square(Y - y_model))/(2 * n_samples)\n",
    "3. cost = tf.reduce_sum(tf.square(Y - y_model))\n",
    "\n",
    "\n",
    "* (2) gives the minimum MSE for trained model. At each epoch weights and bias are updated, giving a more fitting model in the end.\n",
    "* (1 & 3) gives a larger MSE and also weights and bias stop updating after 4-5 epochs. Dont know why. Model also does not fit well."
   ]
  },
  {
   "cell_type": "code",
   "execution_count": 22,
   "metadata": {},
   "outputs": [
    {
     "data": {
      "image/png": "[encoded data removed]",
      "text/plain": [
       "<Figure size 432x288 with 1 Axes>"
      ]
     },
     "metadata": {},
     "output_type": "display_data"
    }
   ],
   "source": [
    "plt.scatter(x_train, y_train)\n",
    "plt.plot(x_train, y_fitted, 'r')\n",
    "plt.show()"
   ]
  },
  {
   "cell_type": "markdown",
   "metadata": {},
   "source": [
    "# Polynomial Regression\n",
    "Dataset: ship_speed_fuel.csv\n",
    "\n",
    "Dataset is read using QueueRunner in multithreaded fashion. An input pipeline is built, which consists of a queue and a TextLineReader. On starting a QueueRunner, the queue is populated by data. The reader reads the data from queue and passes it to a csv_decoder() , which decodes the string row into columns and attribute values. \n",
    "\n",
    "During training, as sess is run on speed and fuel tensors, a data unit (row in this case) is dequeued and passed to csv_decoder(), which returns the values of columns. These values are used to train the model."
   ]
  },
  {
   "cell_type": "code",
   "execution_count": 189,
   "metadata": {
    "scrolled": false
   },
   "outputs": [
    {
     "data": {
      "image/png": "[encoded data removed]",
      "text/plain": [
       "<Figure size 432x288 with 1 Axes>"
      ]
     },
     "metadata": {},
     "output_type": "display_data"
    }
   ],
   "source": [
    "# plot data\n",
    "# simulated polynomial data stored in a csv file\n",
    "import pandas as pd\n",
    "df = pd.read_csv('Datasets/ship_speed_fuel.csv')\n",
    "x_train = np.asarray(df.iloc[:,0])\n",
    "y_train = np.asarray(df.iloc[:,1])\n",
    "\n",
    "plt.scatter(x_train, y_train)\n",
    "plt.show()"
   ]
  },
  {
   "cell_type": "code",
   "execution_count": 204,
   "metadata": {},
   "outputs": [],
   "source": [
    "# returns operations that will read single row of csv\n",
    "def read_input_pipeline(epochs, filename):\n",
    "    # take input using QueueRunner - csv file\n",
    "    queue = tf.train.string_input_producer([filename], num_epochs = epochs, shuffle = False)\n",
    "\n",
    "    # create a reader\n",
    "    reader = tf.TextLineReader()\n",
    "    key_op, value_op = reader.read(queue, name='csv_reader')\n",
    "\n",
    "    # default values for empty columns\n",
    "    default_values = [[0.0], [0.0]]\n",
    "    col1, col2 = tf.decode_csv(value_op, record_defaults=default_values)\n",
    "    \n",
    "    return col1, col2"
   ]
  },
  {
   "cell_type": "markdown",
   "metadata": {},
   "source": [
    "Build a model of degree n: \n",
    "y = w<sub>0</sub> + w<sub>1</sub>*x + w<sub>2</sub>*x<sup>2</sup> + ...... + w<sub>n</sub>x<sup>n</sup>"
   ]
  },
  {
   "cell_type": "code",
   "execution_count": 205,
   "metadata": {},
   "outputs": [],
   "source": [
    "# build a polynomial model\n",
    "def build_polynomial_model(X, degree):\n",
    "    # initialize weights and bias with random values\n",
    "    w = tf.Variable([np.random.randn()] * (degree + 1), name = 'weights')\n",
    "    \n",
    "    terms = []\n",
    "    # add polynomial terms upto degree specified\n",
    "    for i in range(degree + 1):\n",
    "        term = tf.multiply(w[i], tf.pow(X, i))\n",
    "        terms.append(term)\n",
    "    \n",
    "    model = tf.add_n(terms)\n",
    "    \n",
    "    return model, w"
   ]
  },
  {
   "cell_type": "code",
   "execution_count": 203,
   "metadata": {},
   "outputs": [],
   "source": [
    "def train_model(filename, epochs, degree = 2, learning_rate = 0.1):\n",
    "    X = tf.placeholder(dtype = tf.float32)\n",
    "    Y = tf.placeholder(dtype = tf.float32)\n",
    "\n",
    "    y_model, w = build_polynomial_model(X, degree)\n",
    "\n",
    "    # create a cost function to optimise\n",
    "    n_samples = x_train.shape[0]\n",
    "\n",
    "    # MSE fn to evaluate error of trained model\n",
    "    mse = tf.reduce_mean(tf.square(Y - y_model))\n",
    "    \n",
    "    # cost fn to minimise during training\n",
    "    cost = tf.reduce_sum(tf.square(Y - y_model))/(2 * n_samples)\n",
    "\n",
    "    global_step = tf.Variable(0, trainable = False)\n",
    "    train_op = tf.train.GradientDescentOptimizer(learning_rate).minimize(cost, global_step = global_step)\n",
    "\n",
    "    # setup input pipeline to get X and Y values\n",
    "    x_op, y_op = read_input_pipeline(epochs, filename)\n",
    "\n",
    "    # set up session and train polynomial model\n",
    "    with tf.Session() as sess:\n",
    "        sess.run(tf.global_variables_initializer())\n",
    "        sess.run(tf.local_variables_initializer())\n",
    "\n",
    "        # initialise global_step with 0\n",
    "        sess.run(tf.assign(global_step, 0))\n",
    "        epoch = 0\n",
    "        \n",
    "        coord = tf.train.Coordinator()\n",
    "        threads = tf.train.start_queue_runners(coord = coord)\n",
    "\n",
    "        try:\n",
    "            while not coord.should_stop():\n",
    "                # data is being read from queues and printed\n",
    "                # get data and use it to train model\n",
    "                x, y = sess.run([x_op, y_op])\n",
    "                sess.run(train_op, feed_dict={X: x, Y: y})\n",
    "#                 if sess.run(global_step) % n_samples == 0:\n",
    "#                     print('epoch={}, weight={}, MSE={}'.format(epoch, sess.run(w),\\\n",
    "#                                                     sess.run(mse, feed_dict={X: x_train, Y: y_train})))\n",
    "#                     epoch += 1\n",
    "\n",
    "        except tf.errors.OutOfRangeError:\n",
    "            print('Trained Model is:')\n",
    "            print('weight={}, MSE={}'.format(sess.run(w),\\\n",
    "                                                    sess.run(mse, feed_dict={X: x_train, Y: y_train})))\n",
    "        finally:\n",
    "            coord.request_stop()\n",
    "\n",
    "        coord.join(threads)\n",
    "        # get fitted values\n",
    "        \n",
    "        y_fitted = sess.run(y_model, feed_dict={X: x_train})\n",
    "        \n",
    "        return y_fitted"
   ]
  },
  {
   "cell_type": "markdown",
   "metadata": {},
   "source": [
    "Train polynomial models with degrees 2,3,4,5 and plot the results."
   ]
  },
  {
   "cell_type": "code",
   "execution_count": 207,
   "metadata": {
    "scrolled": false
   },
   "outputs": [
    {
     "name": "stdout",
     "output_type": "stream",
     "text": [
      "Consumed all work units.\n",
      "Trained Model is:\n",
      "weight=[2.1458127 6.0110183 3.5967336], MSE=8.16297435760498\n",
      "Consumed all work units.\n",
      "Trained Model is:\n",
      "weight=[2.1599488 4.500246  3.5070648 3.7928824], MSE=6.114632606506348\n",
      "Consumed all work units.\n",
      "Trained Model is:\n",
      "weight=[2.0309968 4.5327163 2.706815  3.5050411 2.1104975], MSE=5.384042263031006\n",
      "Consumed all work units.\n",
      "Trained Model is:\n",
      "weight=[1.6513447 3.6896784 3.1240742 3.408075  2.9449513 3.1277738], MSE=3.5755057334899902\n"
     ]
    },
    {
     "data": {
      "image/png": "[encoded data removed]",
      "text/plain": [
       "<Figure size 432x288 with 1 Axes>"
      ]
     },
     "metadata": {},
     "output_type": "display_data"
    }
   ],
   "source": [
    "y_fitted = train_model('Datasets/ship_speed_fuel.csv', epochs = 50, degree = 2, learning_rate = 0.1)\n",
    "plt.plot(x_train, y_fitted, 'y', label = '2')\n",
    "y_fitted = train_model('Datasets/ship_speed_fuel.csv', epochs = 50, degree = 3, learning_rate = 0.1)\n",
    "plt.plot(x_train, y_fitted, 'r', label = '3')\n",
    "y_fitted = train_model('Datasets/ship_speed_fuel.csv', epochs = 50, degree = 4, learning_rate = 0.1)\n",
    "plt.plot(x_train, y_fitted, 'g', label = '4')\n",
    "y_fitted = train_model('Datasets/ship_speed_fuel.csv', epochs = 50, degree = 5, learning_rate = 0.1)\n",
    "plt.plot(x_train, y_fitted, 'k', label = '5')\n",
    "\n",
    "# plot fitted model\n",
    "plt.scatter(x_train, y_train)\n",
    "plt.legend()\n",
    "plt.show()"
   ]
  }
 ],
 "metadata": {
  "kernelspec": {
   "display_name": "Python 3",
   "language": "python",
   "name": "python3"
  },
  "language_info": {
   "codemirror_mode": {
    "name": "ipython",
    "version": 3
   },
   "file_extension": ".py",
   "mimetype": "text/x-python",
   "name": "python",
   "nbconvert_exporter": "python",
   "pygments_lexer": "ipython3",
   "version": "3.6.5"
  }
 },
 "nbformat": 4,
 "nbformat_minor": 2
}
